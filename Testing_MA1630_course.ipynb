{
  "nbformat": 4,
  "nbformat_minor": 0,
  "metadata": {
    "colab": {
      "provenance": [],
      "authorship_tag": "ABX9TyPZZCWczk+NjTrxYmZOxVM/",
      "include_colab_link": true
    },
    "kernelspec": {
      "name": "python3",
      "display_name": "Python 3"
    },
    "language_info": {
      "name": "python"
    }
  },
  "cells": [
    {
      "cell_type": "markdown",
      "metadata": {
        "id": "view-in-github",
        "colab_type": "text"
      },
      "source": [
        "<a href=\"https://colab.research.google.com/github/patriciamg90/2015lab1/blob/master/Testing_MA1630_course.ipynb\" target=\"_parent\"><img src=\"https://colab.research.google.com/assets/colab-badge.svg\" alt=\"Open In Colab\"/></a>"
      ]
    },
    {
      "cell_type": "code",
      "execution_count": 2,
      "metadata": {
        "colab": {
          "base_uri": "https://localhost:8080/"
        },
        "id": "Hi5Gky6WRsEx",
        "outputId": "5b130954-e742-4b96-f611-2152e9eafa1f"
      },
      "outputs": [
        {
          "output_type": "stream",
          "name": "stdout",
          "text": [
            "1\n",
            "2\n",
            "3\n",
            "4\n",
            "5\n"
          ]
        }
      ],
      "source": [
        "x=0\n",
        "for x in range(5):\n",
        "  x+=1\n",
        "  print(x)\n",
        ""
      ]
    },
    {
      "cell_type": "markdown",
      "source": [
        "Testing how to upload colab privatelly"
      ],
      "metadata": {
        "id": "nKBjn58ISFiJ"
      }
    },
    {
      "cell_type": "markdown",
      "source": [
        "I need to check how to set up deadlines for activities and mini projects.\n"
      ],
      "metadata": {
        "id": "BXviaZUISLRU"
      }
    }
  ]
}