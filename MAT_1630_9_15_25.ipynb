{
  "nbformat": 4,
  "nbformat_minor": 0,
  "metadata": {
    "colab": {
      "provenance": [],
      "authorship_tag": "ABX9TyNpnENrHz9+ph3hH9LwIOui",
      "include_colab_link": true
    },
    "kernelspec": {
      "name": "python3",
      "display_name": "Python 3"
    },
    "language_info": {
      "name": "python"
    }
  },
  "cells": [
    {
      "cell_type": "markdown",
      "metadata": {
        "id": "view-in-github",
        "colab_type": "text"
      },
      "source": [
        "<a href=\"https://colab.research.google.com/github/patriciamg90/2015lab1/blob/master/MAT_1630_9_15_25.ipynb\" target=\"_parent\"><img src=\"https://colab.research.google.com/assets/colab-badge.svg\" alt=\"Open In Colab\"/></a>"
      ]
    },
    {
      "cell_type": "markdown",
      "source": [
        "**MAT 1630 - 9-15-25 Class outline**\n"
      ],
      "metadata": {
        "id": "ciNXxTnKqXWF"
      }
    },
    {
      "cell_type": "markdown",
      "source": [
        "### Boolean Variables and Operators\n",
        "(The following where mainly based in the exposition and some codes from \"Python for Everyone 2/e\")"
      ],
      "metadata": {
        "id": "yRZju4e5qnLz"
      }
    },
    {
      "cell_type": "markdown",
      "source": [
        "Sometimes you evaluate a condition in one part of a program and need to use that result somewhere else. To store a true/false condition, use a Boolean variable—named after mathematician George Boole (1815–1864). In Python, the bool type has exactly two special values: True and False (they’re not strings or numbers)."
      ],
      "metadata": {
        "id": "xF9NVXdqvzmi"
      }
    },
    {
      "cell_type": "code",
      "source": [
        "failed = True\n"
      ],
      "metadata": {
        "id": "ARnU6rvUwB17"
      },
      "execution_count": 1,
      "outputs": []
    },
    {
      "cell_type": "markdown",
      "source": [
        "You can later make decisions based on that value:"
      ],
      "metadata": {
        "id": "ZVpGu0t4wG9K"
      }
    },
    {
      "cell_type": "code",
      "source": [
        "if failed:  # runs only if failed is True\n",
        "   x=0"
      ],
      "metadata": {
        "id": "YQc3Gm2VwK1J"
      },
      "execution_count": 4,
      "outputs": []
    },
    {
      "cell_type": "markdown",
      "source": [
        "For more complex decisions, combine conditions with Boolean operators. In Python, and is True only if both conditions are true, while or is True if at least one condition is true."
      ],
      "metadata": {
        "id": "pDOK3VrOw7bz"
      }
    },
    {
      "cell_type": "code",
      "source": [
        "\n",
        "# This program demonstrates comparisons of numbers, using Boolean expressions.\n",
        "\n",
        "\n",
        "x = float(input(\"Enter a number (such as 3.5 or 4.5): \"))\n",
        "y = float(input(\"Enter a second number: \"))\n",
        "\n",
        "if x == y:\n",
        "    print(\"They are the same.\")\n",
        "else:\n",
        "    if x > y:\n",
        "        print(\"The first number is larger\")\n",
        "    else:\n",
        "        print(\"The first number is smaller\")\n",
        "\n",
        "if -0.01 < x - y and x - y < 0.01:\n",
        "    print(\"The numbers are close together\")\n",
        "\n",
        "if x == y + 1 or x == y - 1:\n",
        "    print(\"The numbers are one apart\")\n",
        "\n",
        "if (x > 0 and y > 0) or (x < 0 and y < 0):\n",
        "    print(\"The numbers have the same sign\")\n",
        "else:\n",
        "    print(\"The numbers have different signs\")\n"
      ],
      "metadata": {
        "colab": {
          "base_uri": "https://localhost:8080/"
        },
        "id": "Xn4dp9STxzS5",
        "outputId": "fc5ea151-5448-4a65-c2b1-c91b7a837da8"
      },
      "execution_count": 7,
      "outputs": [
        {
          "output_type": "stream",
          "name": "stdout",
          "text": [
            "Enter a number (such as 3.5 or 4.5): 4.5\n",
            "Enter a second number: 2\n",
            "The first number is larger\n",
            "The numbers have the same sign\n"
          ]
        }
      ]
    },
    {
      "cell_type": "markdown",
      "source": [
        "Negating a compound condition with not is hard to read. De Morgan’s Law lets you push the not inside and flip the connector:\n",
        "\n",
        "not (A and B) ⟶ (not A) or (not B)\n",
        "\n",
        "not (A or B) ⟶ (not A) and (not B)"
      ],
      "metadata": {
        "id": "oFKFznwezpvM"
      }
    },
    {
      "cell_type": "markdown",
      "source": [
        "**Example:** charging a higher shipping rate unless we ship within the continental U.S."
      ],
      "metadata": {
        "id": "jUkobN6v02zm"
      }
    },
    {
      "cell_type": "code",
      "source": [
        "country = \"USA\"   # try \"CAN\" to see the surcharge\n",
        "state = \"CA\"      # try \"AK\" or \"HI\""
      ],
      "metadata": {
        "id": "4cOSQENW0fzP"
      },
      "execution_count": 10,
      "outputs": []
    },
    {
      "cell_type": "code",
      "source": [
        "if not (country == \"USA\" and state != \"AK\" and state != \"HI\"):\n",
        "    shipping_charge = 20.00\n"
      ],
      "metadata": {
        "id": "_lo5o8SBzsC6"
      },
      "execution_count": 11,
      "outputs": []
    },
    {
      "cell_type": "code",
      "source": [
        "if country != \"USA\" or state == \"AK\" or state == \"HI\":\n",
        "    shipping_charge = 20.00\n"
      ],
      "metadata": {
        "id": "41tdUQQB0E79"
      },
      "execution_count": 12,
      "outputs": []
    },
    {
      "cell_type": "markdown",
      "source": [
        "## Analyzing Strings"
      ],
      "metadata": {
        "id": "OsLyZ04016f8"
      }
    },
    {
      "cell_type": "markdown",
      "source": [
        " Sometimes it is necessary to determine if a string contains a given substring."
      ],
      "metadata": {
        "id": "lx9_PdtM3k3j"
      }
    },
    {
      "cell_type": "markdown",
      "source": [
        "| Operation                 | Description                                                                                               |\n",
        "| ------------------------- | --------------------------------------------------------------------------------------------------------- |\n",
        "| `substring in s`          | Returns `True` if the string `s` contains `substring`; otherwise `False`.                                 |\n",
        "| `s.count(substring)`      | Returns the number of **non-overlapping** occurrences of `substring` in the string `s`.                   |\n",
        "| `s.endswith(substring)`   | Returns `True` if the string `s` ends with `substring`; otherwise `False`.                                |\n",
        "| `s.find(substring)`       | Returns the lowest index in the string `s` where `substring` begins, or `-1` if `substring` is not found. |\n",
        "| `s.startswith(substring)` | Returns `True` if the string `s` begins with `substring`; otherwise `False`.                              |\n"
      ],
      "metadata": {
        "id": "bkL6Xizr4ksf"
      }
    },
    {
      "cell_type": "markdown",
      "source": [
        "| Method        | Description                                                                                                                 |\n",
        "| ------------- | --------------------------------------------------------------------------------------------------------------------------- |\n",
        "| `s.isalnum()` | Returns `True` if string `s` has only letters or digits and at least one character; otherwise `False`.                      |\n",
        "| `s.isalpha()` | Returns `True` if string `s` has only letters and at least one character; otherwise `False`.                                |\n",
        "| `s.isdigit()` | Returns `True` if string `s` has only digits and at least one character; otherwise `False`.                                 |\n",
        "| `s.islower()` | Returns `True` if string `s` contains at least one letter and all letters are lowercase; otherwise `False`.                 |\n",
        "| `s.isspace()` | Returns `True` if string `s` has only whitespace (space, newline, tab, etc.) and at least one character; otherwise `False`. |\n",
        "| `s.isupper()` | Returns `True` if string `s` contains at least one letter and all letters are uppercase; otherwise `False`.                 |\n"
      ],
      "metadata": {
        "id": "jX_RSqEa4nii"
      }
    },
    {
      "cell_type": "markdown",
      "source": [
        "\n",
        "\n",
        "*Assume `name = \"John Johnson\"` for the rows that use `name`.*\n",
        "\n",
        "| Expression                 | Value   | Comment                                                                                           |\n",
        "| -------------------------- | ------- | ------------------------------------------------------------------------------------------------- |\n",
        "| `\"John\" == \"John\"`         | `True`  | `==` tests equality of two strings.                                                               |\n",
        "| `\"John\" == \"john\"`         | `False` | Equality is case-sensitive; strings must match exactly.                                           |\n",
        "| `\"john\" < \"John\"`          | `False` | Lexicographical compare is case-sensitive; uppercase letters come before lowercase (`'J' < 'j'`). |\n",
        "| `\"john\" in \"John Johnson\"` | `False` | Substring match is case-sensitive.                                                                |\n",
        "| `\"ho\" not in name`         | `True`  | The string does not contain `\"ho\"`.                                                               |\n",
        "| `name.count(\"oh\")`         | `2`     | Counts **non-overlapping** occurrences.                                                           |\n",
        "| `name.find(\"oh\")`          | `1`     | Index of first occurrence (or `-1` if not found).                                                 |\n",
        "| `name.find(\"ho\")`          | `-1`    | Not found.                                                                                        |\n",
        "| `name.startswith(\"john\")`  | `False` | Starts with `\"John\"`; uppercase `\"J\"` ≠ lowercase `\"j\"`.                                          |\n",
        "| `name.isspace()`           | `False` | Contains non-whitespace characters.                                                               |\n",
        "| `name.isalnum()`           | `False` | Contains a space.                                                                                 |\n",
        "| `\"1729\".isdigit()`         | `True`  | All characters are digits.                                                                        |\n",
        "| `\"-1729\".isdigit()`        | `False` | `-` is not a digit.                                                                               |\n"
      ],
      "metadata": {
        "id": "d13UnlHt496d"
      }
    },
    {
      "cell_type": "code",
      "source": [
        "# Various string methods that test substrings\n",
        "\n",
        "# Obtain a string and substring from the user.\n",
        "the_string = input(\"Enter a string: \")\n",
        "the_substring = input(\"Enter a substring: \")\n",
        "\n",
        "if the_substring in the_string:\n",
        "    print(\"The string DOES contain the substring.\")\n",
        "\n",
        "    how_many = the_string.count(the_substring)\n",
        "    print(f\" It contains {how_many} instance(s).\")\n",
        "\n",
        "    where = the_string.find(the_substring)  # 0-based index; -1 if not found\n",
        "    print(f\" The first occurrence starts at position {where}.\")\n",
        "\n",
        "    if the_string.startswith(the_substring):\n",
        "        print(\" The string starts with the substring.\")\n",
        "    else:\n",
        "        print(\" The string does not start with the substring.\")\n",
        "\n",
        "    if the_string.endswith(the_substring):\n",
        "        print(\" The string ends with the substring.\")\n",
        "    else:\n",
        "        print(\" The string does not end with the substring.\")\n",
        "else:\n",
        "    print(\"The string does NOT contain the substring.\")\n"
      ],
      "metadata": {
        "colab": {
          "base_uri": "https://localhost:8080/"
        },
        "id": "Yh62qU_W6Fvi",
        "outputId": "48a006ea-1fe4-4b77-f3e7-0d3432082493"
      },
      "execution_count": 16,
      "outputs": [
        {
          "output_type": "stream",
          "name": "stdout",
          "text": [
            "Enter a string: John Johnson\n",
            "Enter a substring: nso\n",
            "The string DOES contain the substring.\n",
            " It contains 1 instance(s).\n",
            " The first occurrence starts at position 8.\n",
            " The string does not start with the substring.\n",
            " The string does not end with the substring.\n"
          ]
        }
      ]
    },
    {
      "cell_type": "markdown",
      "source": [
        "**Exercise:**\n",
        "Write a program that reads in a string and prints whether it\n",
        "- contains only letters.\n",
        "- contains only uppercase letters.\n",
        "- contains only lowercase letters.\n",
        "- contains only digits.\n",
        "- contains only letters and digits.\n",
        " starts with an uppercase letter.\n",
        "- ends with a period."
      ],
      "metadata": {
        "id": "KrlDh9bi82o9"
      }
    },
    {
      "cell_type": "markdown",
      "source": [
        "**Exercise:** Write a program that prompts the user to provide a single character from the alphabet.\n",
        "Print Vowel or Consonant, depending on the user input. If the user input is not a\n",
        "letter (between a and z or A and Z), or is a string of length > 1, print an error\n",
        "message."
      ],
      "metadata": {
        "id": "u0MdtCFU9F1G"
      }
    },
    {
      "cell_type": "markdown",
      "source": [],
      "metadata": {
        "id": "dCaiOYEp8_F5"
      }
    },
    {
      "cell_type": "markdown",
      "source": [
        "**Exercise:**\n",
        "Write pseudocode for a program that prompts the user for a month and day and\n",
        "prints out whether it is one of the following four holidays:\n",
        "- New Year's Day (January 1)\n",
        "- Independence Day (July 4)\n",
        "- Veterans Day (November 11)\n",
        "- Christmas Day (December 25)\n",
        "\n",
        "Write a Python code if you can.\n",
        "\n",
        "\n",
        "\n"
      ],
      "metadata": {
        "id": "JtG3wfo17a7i"
      }
    },
    {
      "cell_type": "markdown",
      "source": [
        "### Loops"
      ],
      "metadata": {
        "id": "moBJi3Fc_0kP"
      }
    },
    {
      "cell_type": "markdown",
      "source": [
        "\n",
        "| Loop (code)                                                                                                             | Output                                     | Explanation                                                                                                                                             |\n",
        "| ----------------------------------------------------------------------------------------------------------------------- | ------------------------------------------ | ------------------------------------------------------------------------------------------------------------------------------------------------------- |\n",
        "| <pre><code>i = 0<br>total = 0<br>while total < 10:<br>    i += 1<br>    total += i<br>    print(i, total)</code></pre>  | `1 1`<br>`2 3`<br>`3 6`<br>`4 10`          | When `total` reaches `10`, the condition `total < 10` becomes false and the loop ends.                                                                  |\n",
        "| <pre><code>i = 0<br>total = 0<br>while total < 10:<br>    i += 1<br>    total -= 1<br>    print(i, total)</code></pre>  | `1 -1`<br>`2 -3`<br>`3 -6`<br>`4 -10`<br>… | `total` keeps decreasing and never reaches `10`, so the condition stays true → **infinite loop**.                                                       |\n",
        "| <pre><code>i = 0<br>total = 0<br>while total < 0:<br>    i += 1<br>    total -= i<br>    print(i, total)</code></pre>   | (No output)                                | `total < 0` is false on the first check, so the loop body never runs.                                                                                   |\n",
        "| <pre><code>i = 0<br>total = 0<br>while total >= 10:<br>    i += 1<br>    total += i<br>    print(i, total)</code></pre> | (No output)                                | Likely intended “stop when the sum is at least 10,” but the condition controls **execution**, not termination. With `total = 0`, the loop never starts. |\n",
        "| <pre><code>i = 0<br>total = 0<br>while total >= 0:<br>    i += 1<br>    total += i<br>print(i, total)</code></pre>      | (No output; program doesn’t terminate)     | `total` is always ≥ 0 and keeps increasing → **infinite loop**. The `print` is **outside** the loop (see indentation), so nothing is printed.           |\n"
      ],
      "metadata": {
        "id": "XFLcNb8p-CAZ"
      }
    },
    {
      "cell_type": "markdown",
      "source": [
        "# Common Loop Algorithms"
      ],
      "metadata": {
        "id": "wIGyZAZI-wDt"
      }
    },
    {
      "cell_type": "code",
      "source": [
        "# Sum numbers until the user submits a blank line.\n",
        "\n",
        "total = 0.0\n",
        "while True:\n",
        "    input_str = input(\"Enter value (blank to finish): \").strip()\n",
        "    if input_str == \"\":\n",
        "        break\n",
        "    try:\n",
        "        value = float(input_str)\n",
        "    except ValueError:\n",
        "        print(\"Not a number — try again.\")\n",
        "        continue\n",
        "    total += value\n",
        "\n",
        "print(f\"Total: {total}\")\n"
      ],
      "metadata": {
        "colab": {
          "base_uri": "https://localhost:8080/"
        },
        "id": "GlROuN2OANi4",
        "outputId": "6f273ede-09e5-4825-a013-e4f6db21bfe7"
      },
      "execution_count": 17,
      "outputs": [
        {
          "output_type": "stream",
          "name": "stdout",
          "text": [
            "Enter value (blank to finish): \n",
            "Total: 0.0\n"
          ]
        }
      ]
    },
    {
      "cell_type": "markdown",
      "source": [],
      "metadata": {
        "id": "gWTy5Dva7ycC"
      }
    },
    {
      "cell_type": "markdown",
      "source": [],
      "metadata": {
        "id": "LUcoV2TL7iMy"
      }
    }
  ]
}